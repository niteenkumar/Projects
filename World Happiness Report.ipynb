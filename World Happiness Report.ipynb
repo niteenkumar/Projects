{
 "cells": [
  {
   "cell_type": "code",
   "execution_count": 1,
   "metadata": {},
   "outputs": [],
   "source": [
    "# importing neccessary libraires\n",
    "\n",
    "import pandas as pd\n",
    "import seaborn as sns\n",
    "import numpy as np\n",
    "from sklearn.preprocessing import StandardScaler\n",
    "from sklearn.linear_model import LinearRegression\n",
    "from sklearn.model_selection import train_test_split\n",
    "from sklearn.metrics import r2_score\n",
    "import matplotlib.pyplot as plt"
   ]
  },
  {
   "cell_type": "code",
   "execution_count": 3,
   "metadata": {},
   "outputs": [
    {
     "data": {
      "text/html": [
       "<div>\n",
       "<style scoped>\n",
       "    .dataframe tbody tr th:only-of-type {\n",
       "        vertical-align: middle;\n",
       "    }\n",
       "\n",
       "    .dataframe tbody tr th {\n",
       "        vertical-align: top;\n",
       "    }\n",
       "\n",
       "    .dataframe thead th {\n",
       "        text-align: right;\n",
       "    }\n",
       "</style>\n",
       "<table border=\"1\" class=\"dataframe\">\n",
       "  <thead>\n",
       "    <tr style=\"text-align: right;\">\n",
       "      <th></th>\n",
       "      <th>Country</th>\n",
       "      <th>Region</th>\n",
       "      <th>Happiness Rank</th>\n",
       "      <th>Happiness Score</th>\n",
       "      <th>Standard Error</th>\n",
       "      <th>Economy (GDP per Capita)</th>\n",
       "      <th>Family</th>\n",
       "      <th>Health (Life Expectancy)</th>\n",
       "      <th>Freedom</th>\n",
       "      <th>Trust (Government Corruption)</th>\n",
       "      <th>Generosity</th>\n",
       "      <th>Dystopia Residual</th>\n",
       "    </tr>\n",
       "  </thead>\n",
       "  <tbody>\n",
       "    <tr>\n",
       "      <th>0</th>\n",
       "      <td>Switzerland</td>\n",
       "      <td>Western Europe</td>\n",
       "      <td>1</td>\n",
       "      <td>7.587</td>\n",
       "      <td>0.03411</td>\n",
       "      <td>1.39651</td>\n",
       "      <td>1.34951</td>\n",
       "      <td>0.94143</td>\n",
       "      <td>0.66557</td>\n",
       "      <td>0.41978</td>\n",
       "      <td>0.29678</td>\n",
       "      <td>2.51738</td>\n",
       "    </tr>\n",
       "    <tr>\n",
       "      <th>1</th>\n",
       "      <td>Iceland</td>\n",
       "      <td>Western Europe</td>\n",
       "      <td>2</td>\n",
       "      <td>7.561</td>\n",
       "      <td>0.04884</td>\n",
       "      <td>1.30232</td>\n",
       "      <td>1.40223</td>\n",
       "      <td>0.94784</td>\n",
       "      <td>0.62877</td>\n",
       "      <td>0.14145</td>\n",
       "      <td>0.43630</td>\n",
       "      <td>2.70201</td>\n",
       "    </tr>\n",
       "    <tr>\n",
       "      <th>2</th>\n",
       "      <td>Denmark</td>\n",
       "      <td>Western Europe</td>\n",
       "      <td>3</td>\n",
       "      <td>7.527</td>\n",
       "      <td>0.03328</td>\n",
       "      <td>1.32548</td>\n",
       "      <td>1.36058</td>\n",
       "      <td>0.87464</td>\n",
       "      <td>0.64938</td>\n",
       "      <td>0.48357</td>\n",
       "      <td>0.34139</td>\n",
       "      <td>2.49204</td>\n",
       "    </tr>\n",
       "    <tr>\n",
       "      <th>3</th>\n",
       "      <td>Norway</td>\n",
       "      <td>Western Europe</td>\n",
       "      <td>4</td>\n",
       "      <td>7.522</td>\n",
       "      <td>0.03880</td>\n",
       "      <td>1.45900</td>\n",
       "      <td>1.33095</td>\n",
       "      <td>0.88521</td>\n",
       "      <td>0.66973</td>\n",
       "      <td>0.36503</td>\n",
       "      <td>0.34699</td>\n",
       "      <td>2.46531</td>\n",
       "    </tr>\n",
       "    <tr>\n",
       "      <th>4</th>\n",
       "      <td>Canada</td>\n",
       "      <td>North America</td>\n",
       "      <td>5</td>\n",
       "      <td>7.427</td>\n",
       "      <td>0.03553</td>\n",
       "      <td>1.32629</td>\n",
       "      <td>1.32261</td>\n",
       "      <td>0.90563</td>\n",
       "      <td>0.63297</td>\n",
       "      <td>0.32957</td>\n",
       "      <td>0.45811</td>\n",
       "      <td>2.45176</td>\n",
       "    </tr>\n",
       "  </tbody>\n",
       "</table>\n",
       "</div>"
      ],
      "text/plain": [
       "       Country          Region  Happiness Rank  Happiness Score  \\\n",
       "0  Switzerland  Western Europe               1            7.587   \n",
       "1      Iceland  Western Europe               2            7.561   \n",
       "2      Denmark  Western Europe               3            7.527   \n",
       "3       Norway  Western Europe               4            7.522   \n",
       "4       Canada   North America               5            7.427   \n",
       "\n",
       "   Standard Error  Economy (GDP per Capita)   Family  \\\n",
       "0         0.03411                   1.39651  1.34951   \n",
       "1         0.04884                   1.30232  1.40223   \n",
       "2         0.03328                   1.32548  1.36058   \n",
       "3         0.03880                   1.45900  1.33095   \n",
       "4         0.03553                   1.32629  1.32261   \n",
       "\n",
       "   Health (Life Expectancy)  Freedom  Trust (Government Corruption)  \\\n",
       "0                   0.94143  0.66557                        0.41978   \n",
       "1                   0.94784  0.62877                        0.14145   \n",
       "2                   0.87464  0.64938                        0.48357   \n",
       "3                   0.88521  0.66973                        0.36503   \n",
       "4                   0.90563  0.63297                        0.32957   \n",
       "\n",
       "   Generosity  Dystopia Residual  \n",
       "0     0.29678            2.51738  \n",
       "1     0.43630            2.70201  \n",
       "2     0.34139            2.49204  \n",
       "3     0.34699            2.46531  \n",
       "4     0.45811            2.45176  "
      ]
     },
     "execution_count": 3,
     "metadata": {},
     "output_type": "execute_result"
    }
   ],
   "source": [
    "# reading the dataset\n",
    "\n",
    "df=pd.read_csv(\"D:\\Projects\\happiness_score_dataset.csv\")\n",
    "df.head()"
   ]
  },
  {
   "cell_type": "code",
   "execution_count": 4,
   "metadata": {},
   "outputs": [
    {
     "data": {
      "text/plain": [
       "(158, 12)"
      ]
     },
     "execution_count": 4,
     "metadata": {},
     "output_type": "execute_result"
    }
   ],
   "source": [
    "df.shape"
   ]
  },
  {
   "cell_type": "markdown",
   "metadata": {},
   "source": [
    "# Data preprocessing"
   ]
  },
  {
   "cell_type": "code",
   "execution_count": 5,
   "metadata": {},
   "outputs": [
    {
     "data": {
      "text/plain": [
       "Country                          0\n",
       "Region                           0\n",
       "Happiness Rank                   0\n",
       "Happiness Score                  0\n",
       "Standard Error                   0\n",
       "Economy (GDP per Capita)         0\n",
       "Family                           0\n",
       "Health (Life Expectancy)         0\n",
       "Freedom                          0\n",
       "Trust (Government Corruption)    0\n",
       "Generosity                       0\n",
       "Dystopia Residual                0\n",
       "dtype: int64"
      ]
     },
     "execution_count": 5,
     "metadata": {},
     "output_type": "execute_result"
    }
   ],
   "source": [
    "df.isnull().sum()"
   ]
  },
  {
   "cell_type": "markdown",
   "metadata": {},
   "source": [
    "as there is no null values so it's a decent dataset"
   ]
  },
  {
   "cell_type": "code",
   "execution_count": 6,
   "metadata": {},
   "outputs": [
    {
     "data": {
      "text/plain": [
       "Index(['Country', 'Region', 'Happiness Rank', 'Happiness Score',\n",
       "       'Standard Error', 'Economy (GDP per Capita)', 'Family',\n",
       "       'Health (Life Expectancy)', 'Freedom', 'Trust (Government Corruption)',\n",
       "       'Generosity', 'Dystopia Residual'],\n",
       "      dtype='object')"
      ]
     },
     "execution_count": 6,
     "metadata": {},
     "output_type": "execute_result"
    }
   ],
   "source": [
    "df.columns"
   ]
  },
  {
   "cell_type": "markdown",
   "metadata": {},
   "source": [
    "As Country, Region and Happiness Rank have no impact on data as they don't reflect any qualititaive feature so we can remove them"
   ]
  },
  {
   "cell_type": "code",
   "execution_count": 9,
   "metadata": {},
   "outputs": [
    {
     "data": {
      "text/html": [
       "<div>\n",
       "<style scoped>\n",
       "    .dataframe tbody tr th:only-of-type {\n",
       "        vertical-align: middle;\n",
       "    }\n",
       "\n",
       "    .dataframe tbody tr th {\n",
       "        vertical-align: top;\n",
       "    }\n",
       "\n",
       "    .dataframe thead th {\n",
       "        text-align: right;\n",
       "    }\n",
       "</style>\n",
       "<table border=\"1\" class=\"dataframe\">\n",
       "  <thead>\n",
       "    <tr style=\"text-align: right;\">\n",
       "      <th></th>\n",
       "      <th>Happiness Score</th>\n",
       "      <th>Standard Error</th>\n",
       "      <th>Economy (GDP per Capita)</th>\n",
       "      <th>Family</th>\n",
       "      <th>Health (Life Expectancy)</th>\n",
       "      <th>Freedom</th>\n",
       "      <th>Trust (Government Corruption)</th>\n",
       "      <th>Generosity</th>\n",
       "      <th>Dystopia Residual</th>\n",
       "    </tr>\n",
       "  </thead>\n",
       "  <tbody>\n",
       "    <tr>\n",
       "      <th>0</th>\n",
       "      <td>7.587</td>\n",
       "      <td>0.03411</td>\n",
       "      <td>1.39651</td>\n",
       "      <td>1.34951</td>\n",
       "      <td>0.94143</td>\n",
       "      <td>0.66557</td>\n",
       "      <td>0.41978</td>\n",
       "      <td>0.29678</td>\n",
       "      <td>2.51738</td>\n",
       "    </tr>\n",
       "    <tr>\n",
       "      <th>1</th>\n",
       "      <td>7.561</td>\n",
       "      <td>0.04884</td>\n",
       "      <td>1.30232</td>\n",
       "      <td>1.40223</td>\n",
       "      <td>0.94784</td>\n",
       "      <td>0.62877</td>\n",
       "      <td>0.14145</td>\n",
       "      <td>0.43630</td>\n",
       "      <td>2.70201</td>\n",
       "    </tr>\n",
       "    <tr>\n",
       "      <th>2</th>\n",
       "      <td>7.527</td>\n",
       "      <td>0.03328</td>\n",
       "      <td>1.32548</td>\n",
       "      <td>1.36058</td>\n",
       "      <td>0.87464</td>\n",
       "      <td>0.64938</td>\n",
       "      <td>0.48357</td>\n",
       "      <td>0.34139</td>\n",
       "      <td>2.49204</td>\n",
       "    </tr>\n",
       "    <tr>\n",
       "      <th>3</th>\n",
       "      <td>7.522</td>\n",
       "      <td>0.03880</td>\n",
       "      <td>1.45900</td>\n",
       "      <td>1.33095</td>\n",
       "      <td>0.88521</td>\n",
       "      <td>0.66973</td>\n",
       "      <td>0.36503</td>\n",
       "      <td>0.34699</td>\n",
       "      <td>2.46531</td>\n",
       "    </tr>\n",
       "    <tr>\n",
       "      <th>4</th>\n",
       "      <td>7.427</td>\n",
       "      <td>0.03553</td>\n",
       "      <td>1.32629</td>\n",
       "      <td>1.32261</td>\n",
       "      <td>0.90563</td>\n",
       "      <td>0.63297</td>\n",
       "      <td>0.32957</td>\n",
       "      <td>0.45811</td>\n",
       "      <td>2.45176</td>\n",
       "    </tr>\n",
       "  </tbody>\n",
       "</table>\n",
       "</div>"
      ],
      "text/plain": [
       "   Happiness Score  Standard Error  Economy (GDP per Capita)   Family  \\\n",
       "0            7.587         0.03411                   1.39651  1.34951   \n",
       "1            7.561         0.04884                   1.30232  1.40223   \n",
       "2            7.527         0.03328                   1.32548  1.36058   \n",
       "3            7.522         0.03880                   1.45900  1.33095   \n",
       "4            7.427         0.03553                   1.32629  1.32261   \n",
       "\n",
       "   Health (Life Expectancy)  Freedom  Trust (Government Corruption)  \\\n",
       "0                   0.94143  0.66557                        0.41978   \n",
       "1                   0.94784  0.62877                        0.14145   \n",
       "2                   0.87464  0.64938                        0.48357   \n",
       "3                   0.88521  0.66973                        0.36503   \n",
       "4                   0.90563  0.63297                        0.32957   \n",
       "\n",
       "   Generosity  Dystopia Residual  \n",
       "0     0.29678            2.51738  \n",
       "1     0.43630            2.70201  \n",
       "2     0.34139            2.49204  \n",
       "3     0.34699            2.46531  \n",
       "4     0.45811            2.45176  "
      ]
     },
     "execution_count": 9,
     "metadata": {},
     "output_type": "execute_result"
    }
   ],
   "source": [
    "df=df.drop([\"Country\",\"Region\",\"Happiness Rank\"],axis=1)\n",
    "df.head()"
   ]
  },
  {
   "cell_type": "markdown",
   "metadata": {},
   "source": [
    "# EDA"
   ]
  },
  {
   "cell_type": "markdown",
   "metadata": {},
   "source": [
    "correlation matrix"
   ]
  },
  {
   "cell_type": "code",
   "execution_count": 10,
   "metadata": {},
   "outputs": [
    {
     "data": {
      "text/html": [
       "<div>\n",
       "<style scoped>\n",
       "    .dataframe tbody tr th:only-of-type {\n",
       "        vertical-align: middle;\n",
       "    }\n",
       "\n",
       "    .dataframe tbody tr th {\n",
       "        vertical-align: top;\n",
       "    }\n",
       "\n",
       "    .dataframe thead th {\n",
       "        text-align: right;\n",
       "    }\n",
       "</style>\n",
       "<table border=\"1\" class=\"dataframe\">\n",
       "  <thead>\n",
       "    <tr style=\"text-align: right;\">\n",
       "      <th></th>\n",
       "      <th>Happiness Score</th>\n",
       "      <th>Standard Error</th>\n",
       "      <th>Economy (GDP per Capita)</th>\n",
       "      <th>Family</th>\n",
       "      <th>Health (Life Expectancy)</th>\n",
       "      <th>Freedom</th>\n",
       "      <th>Trust (Government Corruption)</th>\n",
       "      <th>Generosity</th>\n",
       "      <th>Dystopia Residual</th>\n",
       "    </tr>\n",
       "  </thead>\n",
       "  <tbody>\n",
       "    <tr>\n",
       "      <th>Happiness Score</th>\n",
       "      <td>1.000000</td>\n",
       "      <td>-0.177254</td>\n",
       "      <td>0.780966</td>\n",
       "      <td>0.740605</td>\n",
       "      <td>0.724200</td>\n",
       "      <td>0.568211</td>\n",
       "      <td>0.395199</td>\n",
       "      <td>0.180319</td>\n",
       "      <td>0.530474</td>\n",
       "    </tr>\n",
       "    <tr>\n",
       "      <th>Standard Error</th>\n",
       "      <td>-0.177254</td>\n",
       "      <td>1.000000</td>\n",
       "      <td>-0.217651</td>\n",
       "      <td>-0.120728</td>\n",
       "      <td>-0.310287</td>\n",
       "      <td>-0.129773</td>\n",
       "      <td>-0.178325</td>\n",
       "      <td>-0.088439</td>\n",
       "      <td>0.083981</td>\n",
       "    </tr>\n",
       "    <tr>\n",
       "      <th>Economy (GDP per Capita)</th>\n",
       "      <td>0.780966</td>\n",
       "      <td>-0.217651</td>\n",
       "      <td>1.000000</td>\n",
       "      <td>0.645299</td>\n",
       "      <td>0.816478</td>\n",
       "      <td>0.370300</td>\n",
       "      <td>0.307885</td>\n",
       "      <td>-0.010465</td>\n",
       "      <td>0.040059</td>\n",
       "    </tr>\n",
       "    <tr>\n",
       "      <th>Family</th>\n",
       "      <td>0.740605</td>\n",
       "      <td>-0.120728</td>\n",
       "      <td>0.645299</td>\n",
       "      <td>1.000000</td>\n",
       "      <td>0.531104</td>\n",
       "      <td>0.441518</td>\n",
       "      <td>0.205605</td>\n",
       "      <td>0.087513</td>\n",
       "      <td>0.148117</td>\n",
       "    </tr>\n",
       "    <tr>\n",
       "      <th>Health (Life Expectancy)</th>\n",
       "      <td>0.724200</td>\n",
       "      <td>-0.310287</td>\n",
       "      <td>0.816478</td>\n",
       "      <td>0.531104</td>\n",
       "      <td>1.000000</td>\n",
       "      <td>0.360477</td>\n",
       "      <td>0.248335</td>\n",
       "      <td>0.108335</td>\n",
       "      <td>0.018979</td>\n",
       "    </tr>\n",
       "    <tr>\n",
       "      <th>Freedom</th>\n",
       "      <td>0.568211</td>\n",
       "      <td>-0.129773</td>\n",
       "      <td>0.370300</td>\n",
       "      <td>0.441518</td>\n",
       "      <td>0.360477</td>\n",
       "      <td>1.000000</td>\n",
       "      <td>0.493524</td>\n",
       "      <td>0.373916</td>\n",
       "      <td>0.062783</td>\n",
       "    </tr>\n",
       "    <tr>\n",
       "      <th>Trust (Government Corruption)</th>\n",
       "      <td>0.395199</td>\n",
       "      <td>-0.178325</td>\n",
       "      <td>0.307885</td>\n",
       "      <td>0.205605</td>\n",
       "      <td>0.248335</td>\n",
       "      <td>0.493524</td>\n",
       "      <td>1.000000</td>\n",
       "      <td>0.276123</td>\n",
       "      <td>-0.033105</td>\n",
       "    </tr>\n",
       "    <tr>\n",
       "      <th>Generosity</th>\n",
       "      <td>0.180319</td>\n",
       "      <td>-0.088439</td>\n",
       "      <td>-0.010465</td>\n",
       "      <td>0.087513</td>\n",
       "      <td>0.108335</td>\n",
       "      <td>0.373916</td>\n",
       "      <td>0.276123</td>\n",
       "      <td>1.000000</td>\n",
       "      <td>-0.101301</td>\n",
       "    </tr>\n",
       "    <tr>\n",
       "      <th>Dystopia Residual</th>\n",
       "      <td>0.530474</td>\n",
       "      <td>0.083981</td>\n",
       "      <td>0.040059</td>\n",
       "      <td>0.148117</td>\n",
       "      <td>0.018979</td>\n",
       "      <td>0.062783</td>\n",
       "      <td>-0.033105</td>\n",
       "      <td>-0.101301</td>\n",
       "      <td>1.000000</td>\n",
       "    </tr>\n",
       "  </tbody>\n",
       "</table>\n",
       "</div>"
      ],
      "text/plain": [
       "                               Happiness Score  Standard Error  \\\n",
       "Happiness Score                       1.000000       -0.177254   \n",
       "Standard Error                       -0.177254        1.000000   \n",
       "Economy (GDP per Capita)              0.780966       -0.217651   \n",
       "Family                                0.740605       -0.120728   \n",
       "Health (Life Expectancy)              0.724200       -0.310287   \n",
       "Freedom                               0.568211       -0.129773   \n",
       "Trust (Government Corruption)         0.395199       -0.178325   \n",
       "Generosity                            0.180319       -0.088439   \n",
       "Dystopia Residual                     0.530474        0.083981   \n",
       "\n",
       "                               Economy (GDP per Capita)    Family  \\\n",
       "Happiness Score                                0.780966  0.740605   \n",
       "Standard Error                                -0.217651 -0.120728   \n",
       "Economy (GDP per Capita)                       1.000000  0.645299   \n",
       "Family                                         0.645299  1.000000   \n",
       "Health (Life Expectancy)                       0.816478  0.531104   \n",
       "Freedom                                        0.370300  0.441518   \n",
       "Trust (Government Corruption)                  0.307885  0.205605   \n",
       "Generosity                                    -0.010465  0.087513   \n",
       "Dystopia Residual                              0.040059  0.148117   \n",
       "\n",
       "                               Health (Life Expectancy)   Freedom  \\\n",
       "Happiness Score                                0.724200  0.568211   \n",
       "Standard Error                                -0.310287 -0.129773   \n",
       "Economy (GDP per Capita)                       0.816478  0.370300   \n",
       "Family                                         0.531104  0.441518   \n",
       "Health (Life Expectancy)                       1.000000  0.360477   \n",
       "Freedom                                        0.360477  1.000000   \n",
       "Trust (Government Corruption)                  0.248335  0.493524   \n",
       "Generosity                                     0.108335  0.373916   \n",
       "Dystopia Residual                              0.018979  0.062783   \n",
       "\n",
       "                               Trust (Government Corruption)  Generosity  \\\n",
       "Happiness Score                                     0.395199    0.180319   \n",
       "Standard Error                                     -0.178325   -0.088439   \n",
       "Economy (GDP per Capita)                            0.307885   -0.010465   \n",
       "Family                                              0.205605    0.087513   \n",
       "Health (Life Expectancy)                            0.248335    0.108335   \n",
       "Freedom                                             0.493524    0.373916   \n",
       "Trust (Government Corruption)                       1.000000    0.276123   \n",
       "Generosity                                          0.276123    1.000000   \n",
       "Dystopia Residual                                  -0.033105   -0.101301   \n",
       "\n",
       "                               Dystopia Residual  \n",
       "Happiness Score                         0.530474  \n",
       "Standard Error                          0.083981  \n",
       "Economy (GDP per Capita)                0.040059  \n",
       "Family                                  0.148117  \n",
       "Health (Life Expectancy)                0.018979  \n",
       "Freedom                                 0.062783  \n",
       "Trust (Government Corruption)          -0.033105  \n",
       "Generosity                             -0.101301  \n",
       "Dystopia Residual                       1.000000  "
      ]
     },
     "execution_count": 10,
     "metadata": {},
     "output_type": "execute_result"
    }
   ],
   "source": [
    "df.corr()"
   ]
  },
  {
   "cell_type": "code",
   "execution_count": 11,
   "metadata": {},
   "outputs": [
    {
     "data": {
      "text/plain": [
       "<AxesSubplot:>"
      ]
     },
     "execution_count": 11,
     "metadata": {},
     "output_type": "execute_result"
    },
    {
     "data": {
      "image/png": "[encoded data removed]",
      "text/plain": [
       "<Figure size 1152x648 with 2 Axes>"
      ]
     },
     "metadata": {
      "needs_background": "light"
     },
     "output_type": "display_data"
    }
   ],
   "source": [
    "# plotting the correlation on graph\n",
    "\n",
    "plt.figure(figsize=(16,9))\n",
    "sns.heatmap(df.corr(),annot=True, linewidths=0.5,linecolor=\"black\",fmt='.2f')"
   ]
  },
  {
   "cell_type": "markdown",
   "metadata": {},
   "source": [
    "# outcome of correlation"
   ]
  },
  {
   "cell_type": "markdown",
   "metadata": {},
   "source": [
    "as we can see this data has all the positive correlation except standard error which means as SE increases, score decreases"
   ]
  },
  {
   "cell_type": "markdown",
   "metadata": {},
   "source": [
    "also we see that all the columns except Standard error and generosity have very good correlation value with respect to happiness score."
   ]
  },
  {
   "cell_type": "markdown",
   "metadata": {},
   "source": [
    "# Outliers"
   ]
  },
  {
   "cell_type": "code",
   "execution_count": 12,
   "metadata": {},
   "outputs": [
    {
     "data": {
      "image/png": "[encoded data removed]",
      "text/plain": [
       "<Figure size 2160x6480 with 9 Axes>"
      ]
     },
     "metadata": {
      "needs_background": "light"
     },
     "output_type": "display_data"
    }
   ],
   "source": [
    "collist=df.columns.values\n",
    "ncol=30\n",
    "nrows=14\n",
    "plt.figure(figsize=(ncol,ncol*3))\n",
    "for i in range(0, len(collist)):\n",
    "    plt.subplot(nrows,ncol,i+1)\n",
    "    sns.boxplot(data=df[collist[i]],color='green',orient=\"v\",)\n",
    "    plt.tight_layout()"
   ]
  },
  {
   "cell_type": "markdown",
   "metadata": {},
   "source": [
    "as we can see for standard error and generosity we have many outliers"
   ]
  },
  {
   "cell_type": "code",
   "execution_count": 13,
   "metadata": {},
   "outputs": [
    {
     "data": {
      "text/plain": [
       "Happiness Score                  0.097769\n",
       "Standard Error                   1.983439\n",
       "Economy (GDP per Capita)        -0.317575\n",
       "Family                          -1.006893\n",
       "Health (Life Expectancy)        -0.705328\n",
       "Freedom                         -0.413462\n",
       "Trust (Government Corruption)    1.385463\n",
       "Generosity                       1.001961\n",
       "Dystopia Residual               -0.238911\n",
       "dtype: float64"
      ]
     },
     "execution_count": 13,
     "metadata": {},
     "output_type": "execute_result"
    }
   ],
   "source": [
    "# checking for skewness\n",
    "\n",
    "df.skew()"
   ]
  },
  {
   "cell_type": "markdown",
   "metadata": {},
   "source": [
    "with skewness threshold to be +/-0.6, columns having skewness standard error Family Health Trust Generosity"
   ]
  },
  {
   "cell_type": "markdown",
   "metadata": {},
   "source": [
    "so as per the skewness score and outliers and correlation score we can coclude that standard error and generosity can be removed from the data to give better result"
   ]
  },
  {
   "cell_type": "code",
   "execution_count": 14,
   "metadata": {},
   "outputs": [
    {
     "data": {
      "text/html": [
       "<div>\n",
       "<style scoped>\n",
       "    .dataframe tbody tr th:only-of-type {\n",
       "        vertical-align: middle;\n",
       "    }\n",
       "\n",
       "    .dataframe tbody tr th {\n",
       "        vertical-align: top;\n",
       "    }\n",
       "\n",
       "    .dataframe thead th {\n",
       "        text-align: right;\n",
       "    }\n",
       "</style>\n",
       "<table border=\"1\" class=\"dataframe\">\n",
       "  <thead>\n",
       "    <tr style=\"text-align: right;\">\n",
       "      <th></th>\n",
       "      <th>Happiness Score</th>\n",
       "      <th>Economy (GDP per Capita)</th>\n",
       "      <th>Family</th>\n",
       "      <th>Health (Life Expectancy)</th>\n",
       "      <th>Freedom</th>\n",
       "      <th>Trust (Government Corruption)</th>\n",
       "      <th>Dystopia Residual</th>\n",
       "    </tr>\n",
       "  </thead>\n",
       "  <tbody>\n",
       "    <tr>\n",
       "      <th>0</th>\n",
       "      <td>7.587</td>\n",
       "      <td>1.39651</td>\n",
       "      <td>1.34951</td>\n",
       "      <td>0.94143</td>\n",
       "      <td>0.66557</td>\n",
       "      <td>0.41978</td>\n",
       "      <td>2.51738</td>\n",
       "    </tr>\n",
       "    <tr>\n",
       "      <th>1</th>\n",
       "      <td>7.561</td>\n",
       "      <td>1.30232</td>\n",
       "      <td>1.40223</td>\n",
       "      <td>0.94784</td>\n",
       "      <td>0.62877</td>\n",
       "      <td>0.14145</td>\n",
       "      <td>2.70201</td>\n",
       "    </tr>\n",
       "    <tr>\n",
       "      <th>2</th>\n",
       "      <td>7.527</td>\n",
       "      <td>1.32548</td>\n",
       "      <td>1.36058</td>\n",
       "      <td>0.87464</td>\n",
       "      <td>0.64938</td>\n",
       "      <td>0.48357</td>\n",
       "      <td>2.49204</td>\n",
       "    </tr>\n",
       "    <tr>\n",
       "      <th>3</th>\n",
       "      <td>7.522</td>\n",
       "      <td>1.45900</td>\n",
       "      <td>1.33095</td>\n",
       "      <td>0.88521</td>\n",
       "      <td>0.66973</td>\n",
       "      <td>0.36503</td>\n",
       "      <td>2.46531</td>\n",
       "    </tr>\n",
       "    <tr>\n",
       "      <th>4</th>\n",
       "      <td>7.427</td>\n",
       "      <td>1.32629</td>\n",
       "      <td>1.32261</td>\n",
       "      <td>0.90563</td>\n",
       "      <td>0.63297</td>\n",
       "      <td>0.32957</td>\n",
       "      <td>2.45176</td>\n",
       "    </tr>\n",
       "  </tbody>\n",
       "</table>\n",
       "</div>"
      ],
      "text/plain": [
       "   Happiness Score  Economy (GDP per Capita)   Family  \\\n",
       "0            7.587                   1.39651  1.34951   \n",
       "1            7.561                   1.30232  1.40223   \n",
       "2            7.527                   1.32548  1.36058   \n",
       "3            7.522                   1.45900  1.33095   \n",
       "4            7.427                   1.32629  1.32261   \n",
       "\n",
       "   Health (Life Expectancy)  Freedom  Trust (Government Corruption)  \\\n",
       "0                   0.94143  0.66557                        0.41978   \n",
       "1                   0.94784  0.62877                        0.14145   \n",
       "2                   0.87464  0.64938                        0.48357   \n",
       "3                   0.88521  0.66973                        0.36503   \n",
       "4                   0.90563  0.63297                        0.32957   \n",
       "\n",
       "   Dystopia Residual  \n",
       "0            2.51738  \n",
       "1            2.70201  \n",
       "2            2.49204  \n",
       "3            2.46531  \n",
       "4            2.45176  "
      ]
     },
     "execution_count": 14,
     "metadata": {},
     "output_type": "execute_result"
    }
   ],
   "source": [
    "df=df.drop([\"Standard Error\",\"Generosity\"],axis=1)\n",
    "df.head()"
   ]
  },
  {
   "cell_type": "markdown",
   "metadata": {},
   "source": [
    "# Model Development "
   ]
  },
  {
   "cell_type": "code",
   "execution_count": 16,
   "metadata": {},
   "outputs": [],
   "source": [
    "y=df['Happiness Score']\n",
    "x=df.drop('Happiness Score', axis=1)"
   ]
  },
  {
   "cell_type": "code",
   "execution_count": 20,
   "metadata": {},
   "outputs": [
    {
     "data": {
      "text/plain": [
       "array([[ 1.36962124e+00,  1.32028142e+00,  1.26340809e+00,\n",
       "         1.57743784e+00,  2.30965159e+00,  7.58258088e-01],\n",
       "       [ 1.13522625e+00,  1.51445776e+00,  1.28943383e+00,\n",
       "         1.33245589e+00, -1.64795307e-02,  1.09285682e+00],\n",
       "       [ 1.19286069e+00,  1.36105403e+00,  9.92228817e-01,\n",
       "         1.46965910e+00,  2.84277380e+00,  7.12335259e-01],\n",
       "       [ 1.52512972e+00,  1.25192192e+00,  1.03514490e+00,\n",
       "         1.60513145e+00,  1.85208080e+00,  6.63893379e-01],\n",
       "       [ 1.19487640e+00,  1.22120434e+00,  1.11805373e+00,\n",
       "         1.36041579e+00,  1.55572536e+00,  6.39337171e-01],\n",
       "       [ 1.10518965e+00,  1.20518259e+00,  1.05097959e+00,\n",
       "         1.41846586e+00,  2.25900540e+00,  9.43417340e-01],\n",
       "       [ 1.20271529e+00,  1.06489092e+00,  1.06612405e+00,\n",
       "         1.24584679e+00,  1.46019962e+00,  6.64600163e-01],\n",
       "       [ 1.20836426e+00,  1.09767107e+00,  1.13932906e+00,\n",
       "         1.53902627e+00,  2.46560175e+00,  4.93322871e-01],\n",
       "       [ 1.00547410e+00,  1.21037585e+00,  1.12917861e+00,\n",
       "         1.40308792e+00,  2.38854599e+00,  2.99519108e-01],\n",
       "       [ 1.21301782e+00,  1.17192363e+00,  1.22333414e+00,\n",
       "         1.48204134e+00,  1.77970522e+00,  3.03524217e-01],\n",
       "       [ 9.51696888e-01,  8.57749849e-01,  1.15150959e+00,\n",
       "        -1.02685625e-01, -5.48013822e-01,  1.79335213e+00],\n",
       "       [ 2.72849769e-01,  9.09129968e-01,  9.33884062e-01,\n",
       "         1.36567491e+00, -3.14172164e-01,  1.95417265e+00],\n",
       "       [ 1.22210096e+00,  1.12702587e+00,  1.05629842e+00,\n",
       "         1.30289829e+00,  3.62196865e-01,  7.86928142e-01],\n",
       "       [ 4.34007214e-01, -2.81894354e-01,  7.47806114e-01,\n",
       "         3.54125818e-01,  5.82499442e-01,  2.72413213e+00],\n",
       "       [ 1.36464418e+00,  9.43125560e-01,  9.40055533e-01,\n",
       "         7.81712513e-01,  1.29358101e-01,  7.45082912e-01],\n",
       "       [ 3.36207838e-01,  8.90677323e-01,  2.71060039e-01,\n",
       "         4.11909603e-01,  2.65668232e-01,  2.10410144e+00],\n",
       "       [ 1.78620179e+00,  8.41912249e-01,  1.17209469e+00,\n",
       "         1.24631278e+00,  1.96030987e+00, -2.34447047e-01],\n",
       "       [ 1.21894053e+00,  1.39383418e+00,  1.07623390e+00,\n",
       "         1.25922759e+00,  1.20019912e+00, -2.23410345e-01],\n",
       "       [ 1.14891319e+00,  1.08511148e+00,  1.08167453e+00,\n",
       "         1.03774528e+00,  6.85129019e-01,  5.72428297e-01],\n",
       "       [ 1.44616854e+00,  4.96136935e-01,  7.26733792e-01,\n",
       "         1.41766700e+00,  2.02591591e+00,  2.69036788e-01],\n",
       "       [ 1.04576346e+00,  1.08444851e+00,  1.13348240e+00,\n",
       "         1.11596641e+00,  1.48134399e+00, -2.33848999e-01],\n",
       "       [ 1.27903862e+00,  3.34335597e-01,  5.37976126e-01,\n",
       "         1.35888465e+00,  1.51953757e+00,  6.81254891e-01],\n",
       "       [ 4.92985464e-01,  9.75721550e-01,  3.66474217e-01,\n",
       "         3.09598125e-03, -2.73554921e-01,  1.97959875e+00],\n",
       "       [ 1.68155895e+00,  1.06642479e-01,  1.60373219e+00,\n",
       "         7.58279458e-01,  2.91406291e+00, -3.87764780e-01],\n",
       "       [ 5.40989280e-01,  7.64087021e-01,  6.75413145e-01,\n",
       "         7.55483468e-01, -4.23905580e-01,  1.35829947e+00],\n",
       "       [ 1.19893271e+00,  1.13560764e+00,  1.06214508e+00,\n",
       "         1.23925624e+00,  6.26877541e-01,  3.02888203e-02],\n",
       "       [ 6.49539121e-01,  4.91422487e-01,  9.26981760e-01,\n",
       "         8.45791067e-02, -1.23120687e-01,  1.04544794e+00],\n",
       "       [ 2.10102620e+00,  3.22475814e-01,  6.78336473e-01,\n",
       "         1.40987818e+00,  3.16461949e+00, -9.82677453e-01],\n",
       "       [ 1.07415763e+00,  9.92001129e-01,  1.28111047e+00,\n",
       "         8.08806984e-01,  5.26838776e-01,  2.03487115e-01],\n",
       "       [ 5.16054172e-01,  9.47250702e-01,  6.37328677e-01,\n",
       "         1.40632041e-01, -4.89595195e-01,  1.33568239e+00],\n",
       "       [ 8.28290500e-01,  7.93294502e-01,  8.71194917e-01,\n",
       "         2.33165983e-01, -9.77002111e-01,  1.04901810e+00],\n",
       "       [ 5.36335722e-01,  8.02391913e-01,  7.36275210e-01,\n",
       "         1.16502937e+00,  8.53782510e-01,  4.03126375e-01],\n",
       "       [ 1.80350970e-01,  9.17601243e-01,  2.45683928e-01,\n",
       "         7.05954509e-01, -7.70740062e-01,  1.37441052e+00],\n",
       "       [ 3.00522264e-01,  1.00916467e+00,  4.39476213e-01,\n",
       "         8.52277965e-01, -9.32289714e-01,  3.99556211e-01],\n",
       "       [ 1.36688386e+00,  3.42107071e-01,  3.65377969e-01,\n",
       "        -7.86438224e-01,  1.51953757e+00,  6.15705217e-01],\n",
       "       [ 9.55529230e-01,  1.18871885e+00,  1.32102201e+00,\n",
       "         2.05672085e-01, -6.63931757e-01,  4.47507058e-02],\n",
       "       [ 8.99014629e-01,  1.14540486e+00,  1.04326525e+00,\n",
       "         1.16522909e+00, -6.31977177e-02, -8.15840213e-01],\n",
       "       [ 1.10700628e+00,  3.13525728e-01,  9.94908535e-01,\n",
       "        -2.07801520e-01, -5.19264169e-01,  4.06406577e-01],\n",
       "       [ 1.76208790e+00,  6.44163244e-01,  3.84338999e-01,\n",
       "         8.41293720e-01,  9.41619387e-01, -4.03477129e-01],\n",
       "       [ 3.71296164e-01, -7.01493303e-02, -8.95649522e-02,\n",
       "         1.11809669e+00, -5.92697127e-02,  1.25402167e+00],\n",
       "       [ 9.10038833e-01,  7.08986907e-01, -6.26459735e-02,\n",
       "         8.66923625e-01, -1.10336687e+00,  3.07801166e-01],\n",
       "       [-2.03057423e-01,  1.25316114e-01,  1.91277545e-01,\n",
       "        -1.67193100e-01, -2.14467697e-01,  1.69632339e+00],\n",
       "       [-2.50364449e-01,  1.93417793e-01,  5.68044570e-02,\n",
       "         9.90013738e-01, -4.07023516e-01,  1.16632610e+00],\n",
       "       [-5.31792730e-01,  1.28683830e+00, -1.32115615e-01,\n",
       "         1.52844145e+00,  1.37762794e+00,  2.50877880e-01],\n",
       "       [ 8.03230965e-01,  1.02739632e+00,  6.44596395e-01,\n",
       "        -7.39638684e-01, -9.11897518e-01,  2.67152031e-01],\n",
       "       [ 1.05663836e+00,  9.79994019e-01,  1.46511772e+00,\n",
       "         4.49588892e-01,  3.10714927e-01, -7.51414144e-01],\n",
       "       [ 9.91612969e-01, -1.22671230e-01,  1.36064935e+00,\n",
       "        -6.42644474e-01, -5.41996453e-01,  2.18927624e-01],\n",
       "       [ 4.45019133e-02,  2.94065575e-02,  6.51620503e-01,\n",
       "         3.80288292e-01,  3.13222164e-01,  7.98200438e-01],\n",
       "       [ 1.18858041e+00,  8.29426328e-01,  4.74637353e-01,\n",
       "         1.75115913e-01,  1.35874009e+00, -6.54240423e-01],\n",
       "       [ 1.00786309e+00,  7.61398313e-01,  1.31631221e+00,\n",
       "        -1.10677875e+00, -9.56192043e-01, -1.33739406e-01],\n",
       "       [-4.10128315e-01, -4.65402574e-02, -3.69717220e-01,\n",
       "         9.68777532e-01, -4.63185630e-01,  1.31273910e+00],\n",
       "       [-6.26257471e-01,  8.92579514e-02, -4.87195637e-02,\n",
       "        -6.68607234e-01, -1.06366894e+00,  1.82702404e+00],\n",
       "       [-2.14728646e-01,  1.15549672e+00,  1.24731231e-01,\n",
       "         7.34779831e-01, -5.09820242e-01,  1.63073575e-01],\n",
       "       [ 6.87837656e-01,  4.83835171e-01,  5.44901556e-02,\n",
       "         5.84994674e-01, -4.92102432e-01,  2.68783071e-01],\n",
       "       [ 8.43221702e-01,  1.04161333e+00,  9.87072391e-01,\n",
       "         1.19784897e+00, -8.82144970e-01, -8.75590634e-01],\n",
       "       [ 7.49279554e-01,  9.81209462e-01,  4.10161730e-01,\n",
       "        -1.43257811e+00, -1.11247650e+00,  6.29786527e-01],\n",
       "       [-6.29318367e-01,  5.55399023e-01,  4.58315438e-01,\n",
       "         8.39696012e-01,  4.15768167e-01,  4.07928881e-01],\n",
       "       [ 1.34512179e-01, -6.06099389e-02,  4.05654932e-01,\n",
       "        -9.09025262e-02, -6.98113758e-01,  8.98020068e-01],\n",
       "       [ 4.62326728e-01,  8.90750987e-01,  4.29650583e-01,\n",
       "        -3.27762788e-01,  3.96796738e-01,  5.78533914e-02],\n",
       "       [ 6.95328142e-01,  1.06234954e+00,  6.04035219e-01,\n",
       "         6.83054023e-01, -8.46625776e-01, -4.22850256e-01],\n",
       "       [ 6.93611054e-01,  2.91647742e-01,  3.80360025e-01,\n",
       "         6.76530047e-01, -3.21025279e-01, -3.87039873e-01],\n",
       "       [ 5.88296306e-01, -7.17502006e-01,  6.40658023e-01,\n",
       "        -1.13027837e+00, -9.95555667e-01,  1.18733027e+00],\n",
       "       [ 7.10010491e-01,  4.69875985e-01,  2.98588044e-01,\n",
       "        -7.94522831e-02, -2.77399351e-01, -1.50722063e-02],\n",
       "       [ 7.25414515e-01,  9.02831760e-01,  1.58349503e-01,\n",
       "        -4.11575905e-01, -9.47500287e-01,  3.17079969e-01],\n",
       "       [-8.89830364e-02,  5.89210456e-01,  2.32041730e-01,\n",
       "         5.04643258e-01, -1.00650394e+00,  4.01241618e-01],\n",
       "       [ 9.00657061e-01,  2.91095267e-01,  1.19085271e+00,\n",
       "         4.10445037e-01, -5.19696323e-03, -9.06308549e-01],\n",
       "       [ 9.00831258e-01, -3.60456214e-01,  1.19085271e+00,\n",
       "        -1.45757179e-01, -6.84992549e-01, -3.79972035e-01],\n",
       "       [ 2.31813848e-01,  3.19234630e-01, -5.11556704e-02,\n",
       "        -9.50802470e-01,  2.54134940e-01,  6.03689892e-01],\n",
       "       [-1.11130987e-01, -6.59529026e-01,  4.30635819e-03,\n",
       "        -1.20577009e+00, -8.02414826e-01,  1.20844317e+00],\n",
       "       [ 2.79543925e-01,  8.67878546e-01, -3.71097680e-01,\n",
       "         3.16113674e-01,  1.37913228e+00, -4.15256860e-01],\n",
       "       [ 4.01830473e-01, -2.14947510e-02,  3.21731058e-01,\n",
       "         8.79039580e-01, -5.70077510e-01, -6.11688409e-01],\n",
       "       [ 1.34356630e+00,  2.47265631e-01,  1.55513187e+00,\n",
       "         1.11483470e+00,  1.90398061e+00, -2.61815721e+00],\n",
       "       [ 7.60502841e-01,  8.72408836e-01,  5.82029055e-01,\n",
       "         1.34906919e-01,  7.03544518e-02, -9.26352215e-01],\n",
       "       [-4.44631678e-02,  3.53709033e-01,  3.11441334e-02,\n",
       "         2.49609064e-01, -1.19864188e+00, -4.25858618e-01],\n",
       "       [-5.32489519e-01, -2.90181470e-01,  4.73013282e-01,\n",
       "         1.10391703e+00, -3.26039753e-01,  1.86216217e-01],\n",
       "       [ 5.34643519e-01, -1.64732948e-01,  4.11948208e-01,\n",
       "        -1.33451876e+00,  1.17323362e-01, -2.48221992e-02],\n",
       "       [-9.25379226e-01,  5.89689267e-01,  8.37234357e-02,\n",
       "         4.09749832e-02, -8.44954284e-01,  2.42342105e-01],\n",
       "       [-4.77268956e-01, -3.19425782e-01, -1.90905242e+00,\n",
       "        -5.67685324e-01, -8.61836348e-01,  1.43932590e+00],\n",
       "       [-1.88424845e-01,  4.15843988e-01, -2.28138820e-01,\n",
       "         6.88646002e-01,  9.21674157e-02, -8.35521425e-01],\n",
       "       [ 4.42343802e-01, -1.95634683e-01,  4.13757814e-02,\n",
       "        -3.88209420e-01,  1.43983652e-01, -1.78049319e-01],\n",
       "       [-6.23893364e-01, -2.12494897e+00, -4.69353982e-01,\n",
       "        -2.04769582e+00, -3.24117538e-01,  1.82696967e+00],\n",
       "       [ 1.38966654e-01,  2.31575358e-01,  2.68502127e-01,\n",
       "        -1.46489462e-01, -4.11049377e-03, -3.96916725e-01],\n",
       "       [ 3.19136497e-01, -3.14821828e-01,  3.85516451e-01,\n",
       "        -1.63775049e+00, -3.85977005e-03,  2.16244667e-03],\n",
       "       [ 1.09452644e-01, -1.63149188e-01,  7.56494895e-01,\n",
       "         5.88190090e-01, -9.66220991e-01, -4.32364655e-01],\n",
       "       [-9.35084508e-01, -2.75964462e-01, -1.34399748e+00,\n",
       "         3.97130801e-01, -1.56634092e-01,  9.70148269e-01],\n",
       "       [ 4.91019522e-01, -3.87343302e-01,  5.62905618e-01,\n",
       "        -5.18822077e-01, -1.14440198e+00, -3.03893093e-01],\n",
       "       [ 1.85128955e-01,  6.84849137e-02,  4.79509566e-01,\n",
       "        -1.51479351e+00, -9.79927222e-01, -1.34065614e-01],\n",
       "       [ 7.80834161e-01,  5.46227948e-01,  9.94461915e-01,\n",
       "         5.73011861e-01, -1.10854849e+00, -1.51207670e+00],\n",
       "       [ 6.64395668e-01,  3.85163243e-01,  3.82105901e-01,\n",
       "        -8.78106741e-01, -6.69447679e-01, -8.64137111e-01],\n",
       "       [-3.50428391e-01,  1.62479226e-01, -1.99433363e-01,\n",
       "         1.31035426e+00, -1.72429686e-01, -6.25914700e-01],\n",
       "       [-1.63662705e+00, -1.45580502e-01, -7.77643282e-01,\n",
       "         2.47678500e-01,  2.13832371e+00,  2.05569501e-02],\n",
       "       [-2.77091302e-01, -1.28946034e+00, -8.41243140e-02,\n",
       "        -7.79211459e-02, -4.84413571e-01,  6.42907335e-01],\n",
       "       [ 1.80102117e-01,  4.15241628e-02,  4.27092671e-01,\n",
       "        -6.26068250e-01, -7.53440126e-01, -6.51775741e-01],\n",
       "       [-1.89889362e+00,  1.29699078e-01, -2.18823025e+00,\n",
       "        -5.87456965e-01,  1.05372198e-01,  1.72599019e+00],\n",
       "       [ 8.09589326e-02, -6.87668389e-01,  7.42974503e-01,\n",
       "        -4.74552242e-01, -6.62678138e-01, -3.62519910e-01],\n",
       "       [-3.46085742e-02, -2.64767647e-01,  6.51864113e-01,\n",
       "        -2.23788968e+00, -1.17967045e+00, -6.39852749e-02],\n",
       "       [-1.17132102e+00,  1.84099391e-01, -2.24990435e+00,\n",
       "        -7.38573545e-01, -1.53625407e-01,  1.26739619e+00],\n",
       "       [ 1.22517446e-01,  6.66556873e-01,  1.54248724e-01,\n",
       "         9.85952896e-01, -9.04139365e-03, -1.60553527e+00],\n",
       "       [-6.35763670e-01, -9.31898907e-01, -3.29562061e-01,\n",
       "         1.11370299e+00,  8.27957966e-01, -6.54204178e-01],\n",
       "       [-4.46622505e-02,  1.14013793e+00, -1.11977134e-01,\n",
       "         5.08940891e-02, -9.75832067e-01, -1.36171296e+00],\n",
       "       [-3.33655674e-01,  3.01260796e-01, -2.25177203e+00,\n",
       "        -8.12400985e-01, -9.42903685e-01,  7.02766493e-01],\n",
       "       [ 7.66276239e-01, -2.27309883e-01,  1.02263955e+00,\n",
       "        -2.34080873e+00, -1.08188820e+00, -5.39995153e-01],\n",
       "       [ 4.46698736e-01, -7.03616483e-01,  8.49432364e-01,\n",
       "        -5.95512078e-01, -8.15703183e-01, -9.57577564e-01],\n",
       "       [ 6.83856002e-01,  7.77530565e-01,  5.22912867e-01,\n",
       "        -7.15606488e-01, -9.68143207e-01, -1.55535362e+00],\n",
       "       [-6.24167102e-01, -1.38361504e-01,  2.63264497e-01,\n",
       "        -1.80640478e-01, -6.28245414e-01, -4.61940841e-01],\n",
       "       [-1.13394324e+00, -4.98758974e-01, -2.29275670e-01,\n",
       "         2.89884629e-01,  6.09940995e-02,  2.72079675e-02],\n",
       "       [ 8.70807256e-02, -1.42448509e+00,  4.37161912e-01,\n",
       "        -1.10464847e+00, -6.67274740e-01,  4.65448494e-02],\n",
       "       [-6.15830514e-01, -2.41121743e-01,  1.21361284e-01,\n",
       "        -1.22241289e+00, -1.20112003e-01, -9.99225165e-02],\n",
       "       [-1.11637419e+00, -2.06251936e+00, -1.16199719e-01,\n",
       "        -1.35904645e-01, -1.48193060e-01,  7.58783645e-01],\n",
       "       [ 4.04791828e-01, -1.64481188e+00,  2.75242022e-01,\n",
       "        -8.54007973e-01, -7.08644154e-01, -7.33200868e-01],\n",
       "       [-1.17128353e-01,  7.79850958e-01,  1.77188728e-01,\n",
       "        -1.18087247e+00, -9.51177568e-01, -9.56109628e-01],\n",
       "       [ 3.46784107e-01, -6.34078371e-01, -1.13235789e-01,\n",
       "        -2.85334025e+00, -4.63156537e-02, -2.63914498e-01],\n",
       "       [ 1.85029414e-01,  7.13185713e-01, -1.43478306e+00,\n",
       "        -6.42711045e-01, -4.56165365e-01, -6.87604246e-01],\n",
       "       [-7.47946770e-01, -1.14732709e+00, -9.29534533e-01,\n",
       "        -3.45833072e-02, -8.34674612e-01,  3.80962358e-01],\n",
       "       [-1.43124836e+00,  1.53639635e-01, -1.19982057e+00,\n",
       "        -1.13174294e+00, -5.23442898e-01,  6.21486347e-01],\n",
       "       [-1.92845741e+00, -7.41663554e-01, -1.17034368e+00,\n",
       "        -9.53997887e-01, -6.77805136e-01,  1.22928423e+00],\n",
       "       [-5.00561631e-01, -2.24417295e+00, -4.66796070e-01,\n",
       "        -2.04739246e-01, -4.88926598e-01,  3.19236566e-01],\n",
       "       [-8.08940732e-01,  8.46908296e-02, -1.06165272e+00,\n",
       "        -2.18223617e+00,  2.65613749e-02,  1.98612118e-01],\n",
       "       [-1.44187440e+00, -9.13519925e-01, -9.81707817e-01,\n",
       "        -1.22733916e+00,  2.36751429e-01,  2.58706870e-01],\n",
       "       [-2.10564101e+00,  3.73990205e-02, -2.16082405e+00,\n",
       "        -1.34849870e+00, -5.61385754e-01,  1.39208012e+00],\n",
       "       [-1.20984352e+00, -4.66126152e-01, -2.49779568e-01,\n",
       "        -3.04862302e-01, -7.04966873e-01, -2.58441454e-01],\n",
       "       [-1.63100297e+00, -1.42533221e+00, -7.70253758e-01,\n",
       "         3.91775613e-02,  5.89883097e-02,  6.33900371e-01],\n",
       "       [-1.28382763e+00, -1.30148051e-01, -2.55896508e+00,\n",
       "        -1.34573221e-01, -4.64355674e-01,  7.45046666e-01],\n",
       "       [-9.75672493e-01, -4.49220435e-01, -1.10241690e+00,\n",
       "        -1.24018739e+00,  2.60653757e-01,  3.39858437e-02],\n",
       "       [-1.19804787e+00,  2.84121036e-02, -8.76630416e-01,\n",
       "        -4.30378471e-02, -7.10649944e-01, -5.68012790e-01],\n",
       "       [-1.01006403e+00, -1.46949333e+00, -1.08548596e+00,\n",
       "         2.13860340e-01,  1.15022152e+00, -8.64936229e-02],\n",
       "       [-1.93924504e-01, -7.87960909e-01,  4.04558684e-01,\n",
       "        -1.53210202e+00, -8.72701043e-01, -6.16617774e-01],\n",
       "       [ 3.66841689e-01,  4.18385370e-01, -2.36505099e+00,\n",
       "         4.41600350e-01, -1.56132644e-01, -1.15471590e+00],\n",
       "       [-1.43104928e+00, -1.03863696e+00, -6.00091707e-01,\n",
       "         7.69234209e-02,  3.92116562e-01, -1.23402067e+00],\n",
       "       [-2.59397827e-01, -2.22988227e+00,  4.01960171e-01,\n",
       "        -1.52081441e-01,  2.00485512e+00, -9.12597113e-01],\n",
       "       [-2.06572493e+00, -2.13515133e+00, -1.64290777e+00,\n",
       "         1.28153737e-02, -6.15542078e-01,  1.28477583e+00],\n",
       "       [-2.71180877e-02,  1.03143475e-01,  3.15884402e-01,\n",
       "         7.23263016e-01, -4.31510866e-01, -2.58772926e+00],\n",
       "       [-1.05423550e+00, -3.80750441e-01, -1.60880228e+00,\n",
       "         4.29218110e-01, -7.15079396e-01, -2.68698881e-01],\n",
       "       [ 4.13153301e-01,  4.23910114e-01,  5.53120590e-01,\n",
       "        -8.17127539e-01, -1.12576485e+00, -2.17302836e+00],\n",
       "       [ 8.87480432e-02, -8.98860938e-01, -5.33481664e-02,\n",
       "        -1.70245767e+00, -6.70116275e-01, -9.05601765e-01],\n",
       "       [-7.45682205e-01, -1.14220750e+00, -9.32295454e-01,\n",
       "        -4.85336773e-01, -5.42247177e-01, -3.18681187e-01],\n",
       "       [-2.19879911e-01, -4.81190288e-01, -1.88160562e+00,\n",
       "        -2.16206511e+00, -6.03423765e-01, -2.71091073e-01],\n",
       "       [-1.45678072e+00,  1.62847542e-01, -1.72325869e+00,\n",
       "        -2.66583873e-01, -1.66328742e-01, -5.54638265e-01],\n",
       "       [-4.16772701e-01, -1.20861492e+00, -1.29823928e+00,\n",
       "        -9.28996616e-02, -2.21989409e-01, -7.56850943e-01],\n",
       "       [-1.51073213e+00, -7.30429908e-01, -1.08451152e+00,\n",
       "        -1.32772850e+00,  4.64492143e-01, -2.55269987e-01],\n",
       "       [-1.58051062e+00,  5.22803033e-01, -1.18414828e+00,\n",
       "         1.90760140e-01, -5.91305452e-01, -1.21660479e+00],\n",
       "       [-1.19737596e+00, -5.47168786e-02, -7.91163674e-01,\n",
       "        -4.05384785e-01, -3.03307469e-01, -1.18708297e+00],\n",
       "       [ 5.32802004e-01, -3.15889946e-01, -7.97984772e-01,\n",
       "        -7.28787582e-01, -2.71716280e-01, -1.99354150e+00],\n",
       "       [-1.93293677e+00, -8.04387815e-01, -1.35280807e+00,\n",
       "         3.21572511e-01,  1.08380883e-01, -3.99073322e-01],\n",
       "       [-9.59969845e-01, -1.33951452e+00, -7.76280295e-02,\n",
       "         1.55673420e+00, -5.92976943e-01, -2.02435002e+00],\n",
       "       [-1.39591119e+00,  4.28501013e-02, -1.00736814e+00,\n",
       "        -6.64612963e-01, -7.18338804e-01, -1.30154572e+00],\n",
       "       [-1.58742874e+00, -1.18979396e+00, -6.62009418e-01,\n",
       "        -1.57623871e+00, -5.19682042e-01, -4.49399958e-01],\n",
       "       [-1.91029111e+00, -3.65018347e+00, -2.28697377e+00,\n",
       "         4.00592503e-01, -5.05892237e-01,  1.12962771e+00],\n",
       "       [-1.25473667e+00, -8.48696262e-01, -1.94953240e+00,\n",
       "        -1.28885093e+00, -7.58287451e-01, -2.82743945e-01],\n",
       "       [-1.67221309e+00, -1.93843361e+00, -1.58415700e+00,\n",
       "        -3.41942449e-01, -1.84130126e-01, -1.94377838e-01],\n",
       "       [-9.47626718e-01, -8.09912559e-01, -1.94242709e+00,\n",
       "         2.66584715e-01,  2.99181636e-01, -1.23550673e+00],\n",
       "       [-1.46330068e+00, -5.12570834e-01, -1.45764186e+00,\n",
       "        -2.24244602e-01, -1.26212947e-01, -1.14904350e+00],\n",
       "       [-1.30975815e+00, -2.53473765e+00, -1.32731015e+00,\n",
       "        -1.29464262e+00, -3.86380596e-01, -2.66179831e-01],\n",
       "       [-1.55298744e+00, -8.00520494e-01, -8.18610476e-01,\n",
       "         1.08774023e+00,  3.41392244e+00, -2.58892536e+00],\n",
       "       [-1.39230281e+00, -2.34685952e+00, -1.26336235e+00,\n",
       "         3.72033466e-01, -5.29209543e-01, -8.43966587e-01],\n",
       "       [-4.55245432e-01, -1.90108634e+00,  3.72199067e-01,\n",
       "        -1.80923785e+00,  3.81419017e-01, -3.20843049e+00],\n",
       "       [-2.06756644e+00, -2.11846660e+00, -1.64964766e+00,\n",
       "        -2.06447176e+00, -3.57714517e-01, -4.81984507e-01],\n",
       "       [-1.58633379e+00, -3.13472485e+00, -1.40412871e+00,\n",
       "        -4.26620992e-01, -3.01803127e-01, -9.63612411e-01]])"
      ]
     },
     "execution_count": 20,
     "metadata": {},
     "output_type": "execute_result"
    }
   ],
   "source": [
    "sc=StandardScaler()\n",
    "x=sc.fit_transform(x)\n",
    "x"
   ]
  },
  {
   "cell_type": "markdown",
   "metadata": {},
   "source": [
    "feeding 70% data to train the model as we have less data with random state =355"
   ]
  },
  {
   "cell_type": "code",
   "execution_count": 21,
   "metadata": {},
   "outputs": [],
   "source": [
    "x_train,x_test,y_train, y_test=train_test_split(x,y,train_size=0.7,random_state=355)"
   ]
  },
  {
   "cell_type": "code",
   "execution_count": 22,
   "metadata": {},
   "outputs": [
    {
     "data": {
      "text/plain": [
       "LinearRegression()"
      ]
     },
     "execution_count": 22,
     "metadata": {},
     "output_type": "execute_result"
    }
   ],
   "source": [
    "# using Linear regression model\n",
    "\n",
    "lr=LinearRegression()\n",
    "lr.fit(x_train,y_train)"
   ]
  },
  {
   "cell_type": "code",
   "execution_count": 23,
   "metadata": {},
   "outputs": [
    {
     "name": "stdout",
     "output_type": "stream",
     "text": [
      "Regression R2:0.9894886582452134\n"
     ]
    }
   ],
   "source": [
    "print(f\"Regression R2:{lr.score(x_test,y_test)}\")"
   ]
  },
  {
   "cell_type": "code",
   "execution_count": 24,
   "metadata": {},
   "outputs": [
    {
     "data": {
      "text/plain": [
       "0.9904269298132975"
      ]
     },
     "execution_count": 24,
     "metadata": {},
     "output_type": "execute_result"
    }
   ],
   "source": [
    "lr.score(x_train,y_train)"
   ]
  },
  {
   "cell_type": "code",
   "execution_count": 25,
   "metadata": {},
   "outputs": [
    {
     "data": {
      "text/plain": [
       "0.9894886582452134"
      ]
     },
     "execution_count": 25,
     "metadata": {},
     "output_type": "execute_result"
    }
   ],
   "source": [
    "y_pred=lr.predict(x_test)\n",
    "r2_score(y_test,y_pred)"
   ]
  },
  {
   "cell_type": "markdown",
   "metadata": {},
   "source": [
    "# Model Saving"
   ]
  },
  {
   "cell_type": "code",
   "execution_count": 26,
   "metadata": {},
   "outputs": [],
   "source": [
    "import pickle\n",
    "filename='Happines_score.pkl'\n",
    "pickle.dump(lr,open(filename,'wb'))"
   ]
  },
  {
   "cell_type": "code",
   "execution_count": null,
   "metadata": {},
   "outputs": [],
   "source": []
  }
 ],
 "metadata": {
  "kernelspec": {
   "display_name": "Python 3",
   "language": "python",
   "name": "python3"
  },
  "language_info": {
   "codemirror_mode": {
    "name": "ipython",
    "version": 3
   },
   "file_extension": ".py",
   "mimetype": "text/x-python",
   "name": "python",
   "nbconvert_exporter": "python",
   "pygments_lexer": "ipython3",
   "version": "3.8.5"
  }
 },
 "nbformat": 4,
 "nbformat_minor": 4
}
